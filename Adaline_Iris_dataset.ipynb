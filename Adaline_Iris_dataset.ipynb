{
  "nbformat": 4,
  "nbformat_minor": 0,
  "metadata": {
    "colab": {
      "provenance": [],
      "include_colab_link": true
    },
    "kernelspec": {
      "name": "python3",
      "display_name": "Python 3"
    },
    "language_info": {
      "name": "python"
    }
  },
  "cells": [
    {
      "cell_type": "markdown",
      "metadata": {
        "id": "view-in-github",
        "colab_type": "text"
      },
      "source": [
        "<a href=\"https://colab.research.google.com/github/roner-rodrigues/AI-ML/blob/main/Adaline_Iris_dataset.ipynb\" target=\"_parent\"><img src=\"https://colab.research.google.com/assets/colab-badge.svg\" alt=\"Open In Colab\"/></a>"
      ]
    },
    {
      "cell_type": "markdown",
      "source": [
        "## Adaline - Implementação e Teste do Algoritmo"
      ],
      "metadata": {
        "id": "D0bXv-4iFWay"
      }
    },
    {
      "cell_type": "markdown",
      "source": [
        "Importação das Bibliotecas"
      ],
      "metadata": {
        "id": "mnZ6i71nhFl9"
      }
    },
    {
      "cell_type": "code",
      "execution_count": 13,
      "metadata": {
        "colab": {
          "base_uri": "https://localhost:8080/"
        },
        "id": "C91QDW9gkG78",
        "outputId": "4b048ac7-d5f7-4013-9126-e272835bd2bb"
      },
      "outputs": [
        {
          "output_type": "stream",
          "name": "stdout",
          "text": [
            "Drive already mounted at /content/drive; to attempt to forcibly remount, call drive.mount(\"/content/drive\", force_remount=True).\n"
          ]
        }
      ],
      "source": [
        "from sklearn import preprocessing # Biblioteca para suporte ao pré-processamento\n",
        "from sklearn.model_selection import train_test_split # Biblioteca para separação de amostras para treino e teste\n",
        "import matplotlib.pyplot as plt # Para visualizacao dos dados e do erro\n",
        "import numpy as np # Biblioteca de manipulacao de arrays Numpy\n",
        "from matplotlib.colors import ListedColormap # Lista de cores para plotagens\n",
        "import pandas as pd\n",
        "from google.colab import drive\n",
        "drive.mount('/content/drive') # Montando o Google Drive na mesma conta do Google Colab"
      ]
    },
    {
      "cell_type": "markdown",
      "source": [
        "Definição e Implementação da Classe Adaline"
      ],
      "metadata": {
        "id": "WEwaY-jyhR4X"
      }
    },
    {
      "cell_type": "code",
      "source": [
        "# Classe Adaline\n",
        "class Adaline:\n",
        "    # Construtor com informações setadas com o número de épocas máxima (epoch) e taxa de aprendizagem (eta)\n",
        "    def __init__(self, eta = 0.001, epoch = 1000, goal = 0.000001):\n",
        "        self.eta = eta # Taxa de aprendizagem, utilizada para impulsionar o movimento do hiperplano na separação de classes\n",
        "        self.epoch = epoch # Determinação máxima de épocas no ajuste da RNA\n",
        "        self.epochs = 0 # Contabilização do número de épocas no treinamento\n",
        "        self.errorsTests = 0 # Utilizado para contabilizar a quantidade de amostras classificadas incorretamente nos testes da rede já treinada\n",
        "        self.goal = goal # Definição do objetivo com parada definida no treinamento que é comparado com o cálculo do erro quadrático da época anterior com a atual\n",
        "\n",
        "    # Método para treinamento da rede\n",
        "    def fit(self, X, y):\n",
        "        # Inicialização dos pesos randomicamente - shape retorna a dimensão das entradas da RNA\n",
        "        self.weight_ = np.random.uniform(-1, 1, X.shape[1] + 1)\n",
        "        self.error_ = []\n",
        "        self.mse_ = []\n",
        "        self.mse = 0\n",
        "        self.cost = 0\n",
        "        cont = 1\n",
        "\n",
        "        for _ in range(self.epoch):\n",
        "            # Obtenção da saída da rede baseada nos pesos sinápticos ajustados\n",
        "            output = self.activation_function(X) # Valor do u\n",
        "            # y é a saída desejada e output é a saída calculada, obtem-se um valor real\n",
        "            error = y - output # verificação do erro\n",
        "\n",
        "            # Ajuste do limiar de ativação\n",
        "            self.weight_[0] += self.eta * sum(error)\n",
        "            # Ajuste dos pesos sinápticos - Minimização do erro quadrático médio com a aplicação do gradiente do erro E(w)\n",
        "            self.weight_[1:] += self.eta * X.T.dot(error) # dot efetua a multiplicação de matrizes, T calcula a transposta de X para poder efetuar a multiplicação segundo a regra - https://acervolima.com/diferenca-entre-a-operacao-numpy-dot-e-em-python/\n",
        "\n",
        "            # Cálculo do erro quadrático E(w)\n",
        "            self.cost = 1./2 * sum((error**2))\n",
        "\n",
        "            # Armazena em mseP o mse da época anterior para poder comparar com o atual\n",
        "            mseP = self.mse\n",
        "\n",
        "            # Cálculo do erro quadrático médio mse(w) da época atual\n",
        "            self.mse = 1./X.shape[0] * sum((error**2))\n",
        "\n",
        "            # Atualização do número de épocas\n",
        "            self.epochs += 1\n",
        "\n",
        "            # Permite verificar a diferença do erro somente na segunda passagem\n",
        "            if self.epochs > 1:\n",
        "                # Verfica se a diferença entre o erro da época anterior com a atual é menor que o objetivo pré-determinado\n",
        "                if  mseP-self.mse < self.goal:\n",
        "                    break\n",
        "\n",
        "            # Armazena os erros quadráticos e os erros quadráticos médios em listas\n",
        "            self.error_.append(self.cost)\n",
        "            self.mse_.append(self.mse)\n",
        "\n",
        "        return self\n",
        "\n",
        "    def net_input(self, X):\n",
        "        # Calcula a entrada da rede por meio de um produto escalar (dot) dos valores de entrada com os pesos (Combinador Linear)\n",
        "        return np.dot(X, self.weight_[1:]) + self.weight_[0]\n",
        "\n",
        "    def activation_function(self, X):\n",
        "        # Função de ativação que recebe o retorno do cálculo do método net_input\n",
        "        return self.net_input(X)\n",
        "\n",
        "    def predict(self, X, y_d): # y_d = saída desejada utilizada para verificar a acurácia no teste\n",
        "        # Obtenção da saída calculada baseada no conjunto de entradas calculado com os pesos ajustados obtenção final pautada na função de ativação\n",
        "        y = np.where(self.activation_function(X) >= 0.0, 1, -1)\n",
        "\n",
        "        # Verificação se a amostra testada apresentou erro na classificação\n",
        "        if y != y_d:\n",
        "            self.errorsTests = self.errorsTests + 1\n",
        "            return 'Erro'\n",
        "        return 'Acerto'"
      ],
      "metadata": {
        "id": "DDYOZPY7hQRl"
      },
      "execution_count": 14,
      "outputs": []
    },
    {
      "cell_type": "markdown",
      "source": [
        "Carregamento do Dataset e Manipulação Inicial com Pandas e Numpy"
      ],
      "metadata": {
        "id": "Si_wEJ45hklC"
      }
    },
    {
      "cell_type": "code",
      "source": [
        "# Caminho do dataset no Google Drive que será carregado em df\n",
        "df = pd.read_csv(\"/content/drive/MyDrive/RNA_Datasets/iris.csv\")\n",
        "\n",
        "# Separando a coluna da classe das 100 primeiras amostras do dataset\n",
        "y = df.iloc[0:100, 4].values\n",
        "\n",
        "# Substituindo o valor string em numérico, baseado no que determina a função de ativação da saída\n",
        "y = np.where(y == 'Iris-setosa', -1, 1)\n",
        "\n",
        "# Separando as colunas com as variáveis das 100 primeiras amostras do dataset para determinar os inputs da RNA\n",
        "X = df.iloc[0:100, [0,1,2,3]].values\n"
      ],
      "metadata": {
        "id": "b41vu7VNlI6R"
      },
      "execution_count": 15,
      "outputs": []
    },
    {
      "cell_type": "markdown",
      "source": [
        "Gráfico para Análise das Amostras por Variáveis"
      ],
      "metadata": {
        "id": "F38hgq4LjhOX"
      }
    },
    {
      "cell_type": "code",
      "source": [
        "# Plotando o gráfico para verificação se as amostras são linearmente separáveis\n",
        "plt.scatter(X[:,1],X[:,0],c=y)\n",
        "plt.title(\"Setosa x versicolor\" )\n",
        "plt.xlabel('Sepal.Width')\n",
        "plt.ylabel('Sepal.Length')\n",
        "plt.show"
      ],
      "metadata": {
        "colab": {
          "base_uri": "https://localhost:8080/",
          "height": 641
        },
        "id": "bCXf5eWXjN50",
        "outputId": "201c91b9-a4f8-4c3c-b45c-c1bfbd09e575"
      },
      "execution_count": 16,
      "outputs": [
        {
          "output_type": "execute_result",
          "data": {
            "text/plain": [
              "<function matplotlib.pyplot.show(close=None, block=None)>"
            ],
            "text/html": [
              "<div style=\"max-width:800px; border: 1px solid var(--colab-border-color);\"><style>\n",
              "      pre.function-repr-contents {\n",
              "        overflow-x: auto;\n",
              "        padding: 8px 12px;\n",
              "        max-height: 500px;\n",
              "      }\n",
              "\n",
              "      pre.function-repr-contents.function-repr-contents-collapsed {\n",
              "        cursor: pointer;\n",
              "        max-height: 100px;\n",
              "      }\n",
              "    </style>\n",
              "    <pre style=\"white-space: initial; background:\n",
              "         var(--colab-secondary-surface-color); padding: 8px 12px;\n",
              "         border-bottom: 1px solid var(--colab-border-color);\"><b>matplotlib.pyplot.show</b><br/>def show(*args, **kwargs)</pre><pre class=\"function-repr-contents function-repr-contents-collapsed\" style=\"\"><a class=\"filepath\" style=\"display:none\" href=\"#\">/usr/local/lib/python3.10/dist-packages/matplotlib/pyplot.py</a>Display all open figures.\n",
              "\n",
              "Parameters\n",
              "----------\n",
              "block : bool, optional\n",
              "    Whether to wait for all figures to be closed before returning.\n",
              "\n",
              "    If `True` block and run the GUI main loop until all figure windows\n",
              "    are closed.\n",
              "\n",
              "    If `False` ensure that all figure windows are displayed and return\n",
              "    immediately.  In this case, you are responsible for ensuring\n",
              "    that the event loop is running to have responsive figures.\n",
              "\n",
              "    Defaults to True in non-interactive mode and to False in interactive\n",
              "    mode (see `.pyplot.isinteractive`).\n",
              "\n",
              "See Also\n",
              "--------\n",
              "ion : Enable interactive mode, which shows / updates the figure after\n",
              "      every plotting command, so that calling ``show()`` is not necessary.\n",
              "ioff : Disable interactive mode.\n",
              "savefig : Save the figure to an image file instead of showing it on screen.\n",
              "\n",
              "Notes\n",
              "-----\n",
              "**Saving figures to file and showing a window at the same time**\n",
              "\n",
              "If you want an image file as well as a user interface window, use\n",
              "`.pyplot.savefig` before `.pyplot.show`. At the end of (a blocking)\n",
              "``show()`` the figure is closed and thus unregistered from pyplot. Calling\n",
              "`.pyplot.savefig` afterwards would save a new and thus empty figure. This\n",
              "limitation of command order does not apply if the show is non-blocking or\n",
              "if you keep a reference to the figure and use `.Figure.savefig`.\n",
              "\n",
              "**Auto-show in jupyter notebooks**\n",
              "\n",
              "The jupyter backends (activated via ``%matplotlib inline``,\n",
              "``%matplotlib notebook``, or ``%matplotlib widget``), call ``show()`` at\n",
              "the end of every cell by default. Thus, you usually don&#x27;t have to call it\n",
              "explicitly there.</pre>\n",
              "      <script>\n",
              "      if (google.colab.kernel.accessAllowed && google.colab.files && google.colab.files.view) {\n",
              "        for (const element of document.querySelectorAll('.filepath')) {\n",
              "          element.style.display = 'block'\n",
              "          element.onclick = (event) => {\n",
              "            event.preventDefault();\n",
              "            event.stopPropagation();\n",
              "            google.colab.files.view(element.textContent, 482);\n",
              "          };\n",
              "        }\n",
              "      }\n",
              "      for (const element of document.querySelectorAll('.function-repr-contents')) {\n",
              "        element.onclick = (event) => {\n",
              "          event.preventDefault();\n",
              "          event.stopPropagation();\n",
              "          element.classList.toggle('function-repr-contents-collapsed');\n",
              "        };\n",
              "      }\n",
              "      </script>\n",
              "      </div>"
            ]
          },
          "metadata": {},
          "execution_count": 16
        },
        {
          "output_type": "display_data",
          "data": {
            "text/plain": [
              "<Figure size 640x480 with 1 Axes>"
            ],
            "image/png": "[encoded data removed]"
          },
          "metadata": {}
        }
      ]
    },
    {
      "cell_type": "markdown",
      "source": [
        "Pré-Processamento para Normalizar os Dados e Separar Amostras para Treino e Teste"
      ],
      "metadata": {
        "id": "SsfvLkgsjt_b"
      }
    },
    {
      "cell_type": "code",
      "source": [
        "# Normalização dos dados sklearn - dados entre 0 e 1 - https://pt.linux-console.net/?p=5847\n",
        "scaler = preprocessing.MinMaxScaler()\n",
        "X = scaler.fit_transform(X)\n",
        "\n",
        "# Separação do dataset em amostras para treino e teste, considerando 30% dos valores para teste\n",
        "X_train, X_test, y_train, y_test = train_test_split(X, y, test_size=0.30)"
      ],
      "metadata": {
        "id": "CSQeGUxYjQk6"
      },
      "execution_count": 30,
      "outputs": []
    },
    {
      "cell_type": "markdown",
      "source": [
        "Treinamento da Rede Neural Artificial Adaline"
      ],
      "metadata": {
        "id": "2iusDO9ghwD9"
      }
    },
    {
      "cell_type": "code",
      "source": [
        "# Criando as fronteiras de decisão com Adaline\n",
        "# rede = Adaline(eta = 0.0001, epoch = 2000, goal = 0.0001)\n",
        "rede = Adaline(eta = 0.001, epoch = 1000, goal = 0.5)\n",
        "rede.fit(X_train, y_train)"
      ],
      "metadata": {
        "colab": {
          "base_uri": "https://localhost:8080/"
        },
        "id": "bnxvaPD6lREX",
        "outputId": "35405cce-a19e-4b94-faf9-15e0379f9204"
      },
      "execution_count": 36,
      "outputs": [
        {
          "output_type": "execute_result",
          "data": {
            "text/plain": [
              "<__main__.Adaline at 0x7bcdb480ff40>"
            ]
          },
          "metadata": {},
          "execution_count": 36
        }
      ]
    },
    {
      "cell_type": "markdown",
      "source": [
        "Apresentação Gráfica do Processo de Treinamento"
      ],
      "metadata": {
        "id": "S6UhSUNGitZp"
      }
    },
    {
      "cell_type": "code",
      "source": [
        "# Plotando o gráfico da descida do gradiente no processo de treinamento\n",
        "plt.figure(figsize=(14,5))\n",
        "ax = plt.subplot()\n",
        "ax.plot(range(len(rede.mse_)), rede.mse_)\n",
        "ax.set_ylabel('Erro Quadrático Médio')\n",
        "ax.set_xlabel('Época')\n",
        "ax.set_title('Gráfico de Erro no Treinamento da Rede')\n",
        "plt.show()"
      ],
      "metadata": {
        "colab": {
          "base_uri": "https://localhost:8080/",
          "height": 489
        },
        "id": "7xN5JMabikEZ",
        "outputId": "9ec9b770-b643-47dd-acd1-a72ea944a2bb"
      },
      "execution_count": 37,
      "outputs": [
        {
          "output_type": "display_data",
          "data": {
            "text/plain": [
              "<Figure size 1400x500 with 1 Axes>"
            ],
            "image/png": "[encoded data removed]"
          },
          "metadata": {}
        }
      ]
    },
    {
      "cell_type": "markdown",
      "source": [
        "Apresentação das Métricas do Processo de Treinamento e Validação"
      ],
      "metadata": {
        "id": "20AEl-TnizVM"
      }
    },
    {
      "cell_type": "code",
      "source": [
        "# Testando a rede em lote de amostras\n",
        "print(\"\\nClassificações dos testes com amostras não apresentadas no treinamento:\")\n",
        "\n",
        "# For entrada, saida in zip(X_test, y_test):\n",
        "nTests = len(y_test)\n",
        "for i in range(nTests):\n",
        "    rede.predict(X_test[i,:], y_test[i])\n",
        "\n",
        "print(\"Acurácia: \", (nTests-rede.errorsTests)/nTests*100, \"%\")\n",
        "print(\"Quantidade de erros no teste em lote: \", rede.errorsTests)\n",
        "print(\"Número de épocas do treinamento da RNA: \", rede.epochs)\n",
        "print(\"Erro quadrático médio final (MSE - Eqm(w)): \", rede.mse)\n",
        "print(\"Erro quadrático final (QE - E(w) - Custo): \", rede.cost)\n",
        "print(\"Vetor de pesos finais da RNA treinada - Limiar = \", rede.weight_[0], \"Pesos das entradas = \", rede.weight_[1:])"
      ],
      "metadata": {
        "colab": {
          "base_uri": "https://localhost:8080/"
        },
        "id": "1ytg4JVTiqaA",
        "outputId": "4291d5eb-b90e-4839-f785-31270fbb1b6b"
      },
      "execution_count": 29,
      "outputs": [
        {
          "output_type": "stream",
          "name": "stdout",
          "text": [
            "\n",
            "Classificações dos testes com amostras não apresentadas no treinamento:\n",
            "Acurácia:  50.0 %\n",
            "Quantidade de erros no teste em lote:  15\n",
            "Número de épocas do treinamento da RNA:  2\n",
            "Erro quadrático médio final (MSE - Eqm(w)):  2.0899386328505694\n",
            "Erro quadrático final (QE - E(w) - Custo):  73.14785214976993\n",
            "Vetor de pesos finais da RNA treinada - Limiar =  0.4184830331498485 Pesos das entradas =  [0.83340669 0.17473226 0.44020835 0.48214142]\n"
          ]
        }
      ]
    },
    {
      "cell_type": "markdown",
      "source": [
        "Teste de Amostras Isoladas no Modelo Treinado"
      ],
      "metadata": {
        "id": "TnXewkDTi62M"
      }
    },
    {
      "cell_type": "code",
      "source": [
        "# Teste individual de amostras\n",
        "A = np.array([0.252, 0.519, 0.071, 0.031]) # Padrão correto = -1\n",
        "A_y = np.array(-1)\n",
        "B = np.array([0.613, 0.316, 0.727, 0.536]) # Padrão correto = 1\n",
        "B_y = np.array(1)\n",
        "\n",
        "print(\"Apresentação dos testes individuais:\")\n",
        "print (\"Amostra A - Padrão desejado = -1 -> \", rede.predict(A, A_y))\n",
        "print (\"Amostra B - Padrão desejado = 1 -> \", rede.predict(B, B_y))"
      ],
      "metadata": {
        "colab": {
          "base_uri": "https://localhost:8080/"
        },
        "id": "olKMudbKY2je",
        "outputId": "e32c6000-f9a9-4da7-d8ff-baf21c754c29"
      },
      "execution_count": null,
      "outputs": [
        {
          "output_type": "stream",
          "name": "stdout",
          "text": [
            "Apresentação dos testes individuais:\n",
            "Amostra A - Padrão desejado = -1 ->  Acerto\n",
            "Amostra B - Padrão desejado = 1 ->  Acerto\n"
          ]
        }
      ]
    }
  ]
}
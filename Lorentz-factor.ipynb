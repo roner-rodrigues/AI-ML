{
  "cells": [
    {
      "cell_type": "markdown",
      "metadata": {
        "id": "view-in-github",
        "colab_type": "text"
      },
      "source": [
        "<a href=\"https://colab.research.google.com/github/roner-rodrigues/GoogleColab/blob/main/Lorentz-factor.ipynb\" target=\"_parent\"><img src=\"https://colab.research.google.com/assets/colab-badge.svg\" alt=\"Open In Colab\"/></a>"
      ]
    },
    {
      "cell_type": "code",
      "source": [
        "import matplotlib.pyplot as plt\n",
        "\n",
        "# Corrected Dataset\n",
        "speed_of_light = [0.9, 0.99, 0.999, 0.9999, 0.9999, 0.99999]\n",
        "lorentz_factor = [2.29, 7.09, 22.37, 70.71, 223.61, 707.11]\n",
        "time_dilation = [2.29, 7.09, 22.37, 71, 224, 707]  # Converted time to seconds for consistency\n",
        "\n",
        "# Plotting the data\n",
        "plt.figure(figsize=(10, 6))\n",
        "plt.plot(speed_of_light, lorentz_factor, marker='o', label='Lorentz Factor')\n",
        "plt.plot(speed_of_light, time_dilation, marker='x', label='Time Dilation (sec)')\n",
        "\n",
        "# Adding axis labels and title\n",
        "plt.xlabel('Speed of Light (fraction of c)')\n",
        "plt.ylabel('Values')\n",
        "plt.title('Lorentz Factor and Time Dilation vs Speed of Light')\n",
        "\n",
        "# Adding legend\n",
        "plt.legend()\n",
        "\n",
        "# Display the plot\n",
        "plt.grid(True)\n",
        "plt.show()\n"
      ],
      "metadata": {
        "id": "4_woFj7t-rSA"
      },
      "execution_count": null,
      "outputs": []
    }
  ],
  "metadata": {
    "colab": {
      "toc_visible": true,
      "provenance": [],
      "include_colab_link": true
    },
    "kernelspec": {
      "display_name": "Python 3",
      "name": "python3"
    }
  },
  "nbformat": 4,
  "nbformat_minor": 0
}
{
  "cells": [
    {
      "cell_type": "markdown",
      "metadata": {
        "id": "view-in-github",
        "colab_type": "text"
      },
      "source": [
        "<a href=\"https://colab.research.google.com/github/roner-rodrigues/AI-ML/blob/main/Adaline_Valvulas_dataset.ipynb\" target=\"_parent\"><img src=\"https://colab.research.google.com/assets/colab-badge.svg\" alt=\"Open In Colab\"/></a>"
      ]
    },
    {
      "cell_type": "markdown",
      "source": [
        "## Adaline - Implementação e Teste do Algoritmo sobre o dataset válvulas"
      ],
      "metadata": {
        "id": "oOWn52Ic0ioQ"
      }
    },
    {
      "cell_type": "code",
      "source": [
        "from sklearn import preprocessing # Biblioteca para suporte ao pré-processamento\n",
        "from sklearn.model_selection import train_test_split # Biblioteca para separação de amostras para treino e teste\n",
        "import matplotlib.pyplot as plt # Para visualizacao dos dados e do erro\n",
        "import numpy as np # Biblioteca de manipulacao de arrays Numpy\n",
        "from matplotlib.colors import ListedColormap # Lista de cores para plotagens\n",
        "import pandas as pd\n",
        "from google.colab import drive\n",
        "from mpl_toolkits.mplot3d import Axes3D\n",
        "from sklearn.linear_model import LinearRegression\n",
        "\n",
        "drive.mount('/content/drive') # Montando o Google Drive na mesma conta do Google Colab"
      ],
      "metadata": {
        "id": "PZphtDGU0kpn",
        "outputId": "e5bd40cb-751d-44d5-f873-47ff95183774",
        "colab": {
          "base_uri": "https://localhost:8080/"
        }
      },
      "execution_count": null,
      "outputs": [
        {
          "output_type": "stream",
          "name": "stdout",
          "text": [
            "Mounted at /content/drive\n"
          ]
        }
      ]
    },
    {
      "cell_type": "code",
      "source": [
        "# Classe Adaline\n",
        "class Adaline:\n",
        "    # Construtor com informações setadas com o número de épocas máxima (epoch) e taxa de aprendizagem (eta)\n",
        "    def __init__(self, eta = 0.001, epoch = 1000, goal = 0.000001):\n",
        "        self.eta = eta # Taxa de aprendizagem, utilizada para impulsionar o movimento do hiperplano na separação de classes\n",
        "        self.epoch = epoch # Determinação máxima de épocas no ajuste da RNA\n",
        "        self.epochs = 0 # Contabilização do número de épocas no treinamento\n",
        "        self.errorsTests = 0 # Utilizado para contabilizar a quantidade de amostras classificadas incorretamente nos testes da rede já treinada\n",
        "        self.goal = goal # Definição do objetivo com parada definida no treinamento que é comparado com o cálculo do erro quadrático da época anterior com a atual\n",
        "\n",
        "    # Método para treinamento da rede\n",
        "    def fit(self, X, y):\n",
        "        # Inicialização dos pesos randomicamente - shape retorna a dimensão das entradas da RNA\n",
        "        self.weight_ = np.random.uniform(-1, 1, X.shape[1] + 1)\n",
        "        self.error_ = []\n",
        "        self.mse_ = []\n",
        "        self.mse = 0\n",
        "        self.cost = 0\n",
        "        cont = 1\n",
        "\n",
        "        for _ in range(self.epoch):\n",
        "            # Obtenção da saída da rede baseada nos pesos sinápticos ajustados\n",
        "            output = self.activation_function(X) # Valor do u\n",
        "            # y é a saída desejada e output é a saída calculada, obtem-se um valor real\n",
        "            error = y - output # verificação do erro\n",
        "\n",
        "            # Ajuste do limiar de ativação\n",
        "            self.weight_[0] += self.eta * sum(error)\n",
        "            # Ajuste dos pesos sinápticos - Minimização do erro quadrático médio com a aplicação do gradiente do erro E(w)\n",
        "            self.weight_[1:] += self.eta * X.T.dot(error) # dot efetua a multiplicação de matrizes, T calcula a transposta de X para poder efetuar a multiplicação segundo a regra - https://acervolima.com/diferenca-entre-a-operacao-numpy-dot-e-em-python/\n",
        "\n",
        "            # Cálculo do erro quadrático E(w)\n",
        "            self.cost = 1./2 * sum((error**2))\n",
        "\n",
        "            # Armazena em mseP o mse da época anterior para poder comparar com o atual\n",
        "            mseP = self.mse\n",
        "\n",
        "            # Cálculo do erro quadrático médio mse(w) da época atual\n",
        "            self.mse = 1./X.shape[0] * sum((error**2))\n",
        "\n",
        "            # Atualização do número de épocas\n",
        "            self.epochs += 1\n",
        "\n",
        "            # Permite verificar a diferença do erro somente na segunda passagem\n",
        "            if self.epochs > 1:\n",
        "                # Verfica se a diferença entre o erro da época anterior com a atual é menor que o objetivo pré-determinado\n",
        "                if  mseP-self.mse < self.goal:\n",
        "                    break\n",
        "\n",
        "            # Armazena os erros quadráticos e os erros quadráticos médios em listas\n",
        "            self.error_.append(self.cost)\n",
        "            self.mse_.append(self.mse)\n",
        "\n",
        "        return self\n",
        "\n",
        "    def net_input(self, X):\n",
        "        # Calcula a entrada da rede por meio de um produto escalar (dot) dos valores de entrada com os pesos (Combinador Linear)\n",
        "        return np.dot(X, self.weight_[1:]) + self.weight_[0]\n",
        "\n",
        "    def activation_function(self, X):\n",
        "        # Função de ativação que recebe o retorno do cálculo do método net_input\n",
        "        return self.net_input(X)\n",
        "\n",
        "    def predict(self, X, y_d): # y_d = saída desejada utilizada para verificar a acurácia no teste\n",
        "        # Obtenção da saída calculada baseada no conjunto de entradas calculado com os pesos ajustados obtenção final pautada na função de ativação\n",
        "        y = np.where(self.activation_function(X) >= 0.0, 1, -1)\n",
        "\n",
        "        # Verificação se a amostra testada apresentou erro na classificação\n",
        "        if y != y_d:\n",
        "            self.errorsTests = self.errorsTests + 1\n",
        "            return 'Erro'\n",
        "        return 'Acerto'"
      ],
      "metadata": {
        "id": "dcPO4JdE07QZ"
      },
      "execution_count": null,
      "outputs": []
    },
    {
      "cell_type": "code",
      "source": [
        "# # Caminho do dataset no Google Drive que será carregado em df\n",
        "# df = pd.read_csv(\"/content/drive/MyDrive/POS-IA/RNA_Datasets/valvulas.csv\")\n",
        "\n",
        "# # Separando a coluna que é o objetivo da classificação\n",
        "# y = df.iloc[0:, 4].values\n",
        "\n",
        "# # Separando as colunas com os inputs da RNA\n",
        "# X = df.iloc[0:, [0,1,2,3]].values\n",
        "\n",
        "# # print(y.shape)\n",
        "# # print(X.shape)\n",
        "\n",
        "# correlation_matrix = df.corr()  # Calcula a matriz de correlação\n",
        "# print(correlation_matrix)"
      ],
      "metadata": {
        "id": "t_muqzpf1Mao"
      },
      "execution_count": null,
      "outputs": []
    },
    {
      "cell_type": "code",
      "source": [
        "# # Plotando o gráfico para verificação se as amostras são linearmente separáveis (não são)\n",
        "# plt.scatter(X[:,0],X[:,3],c=y)\n",
        "# plt.title(\"Válvula-A X Válvula-B\" )\n",
        "# plt.xlabel('Válvula-A')\n",
        "# plt.ylabel('Válvula-B')\n",
        "# plt.show"
      ],
      "metadata": {
        "id": "sNNippwg32o5"
      },
      "execution_count": null,
      "outputs": []
    },
    {
      "cell_type": "code",
      "source": [
        "# Carregando os datasets\n",
        "train_df = pd.read_csv(\"/content/drive/MyDrive/POS-IA/RNA_Datasets/valvulas.csv\")\n",
        "test_df = pd.read_csv(\"/content/drive/MyDrive/POS-IA/RNA_Datasets/valvulasTestes.csv\")\n",
        "\n",
        "\n",
        "# Separando os inputs (X) e o alvo (y) do dataset de treino\n",
        "X_train = train_df.iloc[:, :-1].values  # Todas as colunas, exceto a última\n",
        "y_train = train_df.iloc[:, -1].values   # Apenas a última coluna\n",
        "\n",
        "# Separando os inputs (X) e o alvo (y) do dataset de teste\n",
        "X_test = test_df.iloc[:, :-1].values    # Todas as colunas, exceto a última\n",
        "y_test = test_df.iloc[:, -1].values     # Apenas a última coluna\n",
        "\n",
        "# Verificando os formatos\n",
        "print(\"X_train shape:\", X_train.shape)\n",
        "print(\"y_train shape:\", y_train.shape)\n",
        "print(\"X_test shape:\", X_test.shape)\n",
        "print(\"y_test shape:\", y_test.shape)"
      ],
      "metadata": {
        "colab": {
          "base_uri": "https://localhost:8080/"
        },
        "id": "9TsplIIQsOpq",
        "outputId": "e3aae987-587b-4f36-a457-f3cfcf24c481"
      },
      "execution_count": 5,
      "outputs": [
        {
          "output_type": "stream",
          "name": "stdout",
          "text": [
            "X_train shape: (34, 4)\n",
            "y_train shape: (34,)\n",
            "X_test shape: (14, 4)\n",
            "y_test shape: (14,)\n"
          ]
        }
      ]
    },
    {
      "cell_type": "code",
      "source": [
        "# Criando as fronteiras de decisão com Adaline\n",
        "rede = Adaline(eta = 0.001, epoch = 5000, goal = 0.000001)\n",
        "rede.fit(X_train, y_train)\n",
        "\n",
        "# Exibir os valores finais de limiar (bias) e pesos\n",
        "print(\"Pesos finais (weight_):\", rede.weight_)"
      ],
      "metadata": {
        "colab": {
          "base_uri": "https://localhost:8080/"
        },
        "id": "rWQiVqb29c4g",
        "outputId": "26b15946-f80e-4814-c3a4-05ba83ef4918"
      },
      "execution_count": 10,
      "outputs": [
        {
          "output_type": "stream",
          "name": "stdout",
          "text": [
            "Pesos finais (weight_): [ 1.77253363  1.30209865  1.62504714 -0.42380133 -1.1694284 ]\n"
          ]
        }
      ]
    },
    {
      "cell_type": "code",
      "source": [
        "# Plotando o gráfico da descida do gradiente no processo de treinamento\n",
        "plt.figure(figsize=(14,5))\n",
        "ax = plt.subplot()\n",
        "ax.plot(range(len(rede.mse_)), rede.mse_)\n",
        "ax.set_ylabel('Erro Quadrático Médio')\n",
        "ax.set_xlabel('Época')\n",
        "ax.set_title('Gráfico de Erro no Treinamento da Rede')\n",
        "plt.show()"
      ],
      "metadata": {
        "colab": {
          "base_uri": "https://localhost:8080/",
          "height": 489
        },
        "id": "axq0jBItCOsh",
        "outputId": "e3e48ca6-0942-4843-c087-ca8b331135ea"
      },
      "execution_count": 11,
      "outputs": [
        {
          "output_type": "display_data",
          "data": {
            "text/plain": [
              "<Figure size 1400x500 with 1 Axes>"
            ],
            "image/png": "[encoded data removed]"
          },
          "metadata": {}
        }
      ]
    },
    {
      "cell_type": "code",
      "source": [
        "# Testando a rede em lote de amostras\n",
        "print(\"\\nClassificações dos testes:\")\n",
        "\n",
        "# For entrada, saida in zip(X_test, y_test):\n",
        "nTests = len(y_test)\n",
        "for i in range(nTests):\n",
        "    rede.predict(X_test[i,:], y_test[i])\n",
        "\n",
        "print(\"Acurácia: \", (nTests-rede.errorsTests)/nTests*100, \"%\")\n",
        "print(\"Quantidade de erros no teste em lote: \", rede.errorsTests)\n",
        "print(\"Número de épocas do treinamento da RNA: \", rede.epochs)\n",
        "print(\"Erro quadrático médio final (MSE - Eqm(w)): \", rede.mse)\n",
        "print(\"Erro quadrático final (QE - E(w) - Custo): \", rede.cost)\n",
        "\n",
        "print(\"\\n\")\n",
        "print(\"Treinamento: T1\")\n",
        "print(\"Limiar:\", rede.weight_[0])\n",
        "print(\"Vetor de pesos final:\", rede.weight_[1:])\n",
        "print(\"Epocas: 5000\")\n"
      ],
      "metadata": {
        "colab": {
          "base_uri": "https://localhost:8080/"
        },
        "id": "2psvz7a_DQI-",
        "outputId": "08a8e8db-59ba-4de8-ebe8-2da2c68e455e"
      },
      "execution_count": 15,
      "outputs": [
        {
          "output_type": "stream",
          "name": "stdout",
          "text": [
            "\n",
            "Classificações dos testes:\n",
            "Acurácia:  100.0 %\n",
            "Quantidade de erros no teste em lote:  0\n",
            "Número de épocas do treinamento da RNA:  1966\n",
            "Erro quadrático médio final (MSE - Eqm(w)):  0.3095708318121375\n",
            "Erro quadrático final (QE - E(w) - Custo):  5.2627041408063375\n",
            "\n",
            "\n",
            "Treinamento: T1\n",
            "Limiar: 1.7725336285336835\n",
            "Vetor de pesos final: [ 1.30209865  1.62504714 -0.42380133 -1.1694284 ]\n",
            "Epocas: 5000\n"
          ]
        }
      ]
    }
  ],
  "metadata": {
    "colab": {
      "provenance": [],
      "include_colab_link": true
    },
    "kernelspec": {
      "display_name": "Python 3",
      "name": "python3"
    }
  },
  "nbformat": 4,
  "nbformat_minor": 0
}
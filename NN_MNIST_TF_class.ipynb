{
  "nbformat": 4,
  "nbformat_minor": 0,
  "metadata": {
    "colab": {
      "provenance": [],
      "toc_visible": true,
      "authorship_tag": "ABX9TyN2idQ0W2s/x6HniDmTQItf",
      "include_colab_link": true
    },
    "kernelspec": {
      "name": "python3",
      "display_name": "Python 3"
    },
    "language_info": {
      "name": "python"
    }
  },
  "cells": [
    {
      "cell_type": "markdown",
      "metadata": {
        "id": "view-in-github",
        "colab_type": "text"
      },
      "source": [
        "<a href=\"https://colab.research.google.com/github/roner-rodrigues/AI-ML/blob/main/NN_MNIST_TF_class.ipynb\" target=\"_parent\"><img src=\"https://colab.research.google.com/assets/colab-badge.svg\" alt=\"Open In Colab\"/></a>"
      ]
    },
    {
      "cell_type": "code",
      "source": [
        "import tensorflow as tf\n",
        "import matplotlib.pyplot as plt\n",
        "\n",
        "# MNIST dataset - 60 thousand figures of 28x28 pixels\n",
        "mnist = tf.keras.datasets.mnist\n",
        "\n",
        "# Load the training and testing data\n",
        "(x_train, y_train), (x_test, y_test) = mnist.load_data()\n",
        "\n",
        "# Normalization of the data (images) - (0-255) -> (0-1)\n",
        "x_train, x_test = x_train / 255.0, x_test / 255.0\n",
        "\n",
        "# Create a neural network\n",
        "model = tf.keras.models.Sequential([\n",
        "  # Input must be transformed from 28x28 figures into a vector\n",
        "  tf.keras.layers.Flatten(input_shape=(28, 28)),\n",
        "  # Hidden layer with N neurons using the ReLU activation function\n",
        "  tf.keras.layers.Dense(32, activation=tf.nn.relu),\n",
        "  # Hidden layer with X% of neurons randomly activated\n",
        "  tf.keras.layers.Dropout(0.1),\n",
        "  # Output layer - since the numbers are 0 to 9, there will be 10 outputs\n",
        "  tf.keras.layers.Dense(10, activation=tf.nn.softmax)]\n",
        ")\n",
        "\n",
        "# Define training algorithm, loss function, and training metric\n",
        "model.compile(optimizer='adam',\n",
        "loss='SparseCategoricalCrossentropy',\n",
        "metrics=['accuracy'])\n",
        "\n",
        "# Train the network\n",
        "history = model.fit(x_train, y_train, epochs=200)\n",
        "\n",
        "# Evaluate the network's accuracy on the test set\n",
        "model.evaluate(x_test, y_test, verbose=2)\n",
        "\n",
        "# Plot the figures with accuracy and loss\n",
        "plt.plot(history.history['accuracy'])\n",
        "plt.title('Model Accuracy')\n",
        "plt.ylabel('Accuracy')\n",
        "plt.xlabel('Epoch')\n",
        "plt.legend(['Training'], loc='upper left')\n",
        "plt.show()"
      ],
      "metadata": {
        "id": "WhE9PynncK-3"
      },
      "execution_count": null,
      "outputs": []
    }
  ]
}